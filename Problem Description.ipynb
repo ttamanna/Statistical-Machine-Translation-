{
 "cells": [
  {
   "cell_type": "markdown",
   "metadata": {},
   "source": [
    "## Training Corpus: Europarl corpus (German to English) "
   ]
  },
  {
   "cell_type": "markdown",
   "metadata": {},
   "source": [
    "### Test Data: German to English"
   ]
  },
  {
   "cell_type": "markdown",
   "metadata": {},
   "source": [
    "Die Stadt, in der ich wohne, ist ziemlich klein. Sie hat nur 45.000 Einwohner und ist umgeben von Landwirtschaft und Wäldern. Wir haben auch einen schönen See, welcher im Sommer eine große Attraktion ist, und viele Turisten machen hier dann Urlaub. Ich bin früher immer Eislaufen gewesen auf dem See, als es im Winter noch kälter war. Man kann dort schwimmen, segeln oder windsurfen, und man kann sogar Wakeboarding lernen. Meine Stadt liegt nicht weit von einer großen Stadt, so dass die Leute dort auch shoppen gehen können, da die Zugfahrt nur 15 Minuten dauert."
   ]
  },
  {
   "cell_type": "markdown",
   "metadata": {},
   "source": [
    "The town I live in is quite small. It only has 45,000 inhabitants and is surrounded by farmland and forests. We also have a nice lake which is a great attraction in summer when many tourists come for holidays. I used to ice skate on the lake in winter when I was younger and the winters were colder. You can go swimming, sailing or windsurfing there and you even can learn how to wakeboard. My town is not far from a big city so people can go shopping there as well, as it only takes 15 minutes by train."
   ]
  },
  {
   "cell_type": "markdown",
   "metadata": {},
   "source": [
    "#### Results: "
   ]
  },
  {
   "cell_type": "markdown",
   "metadata": {},
   "source": [
    "#### 1. Calculate the following parameters for the German to English translation.   "
   ]
  },
  {
   "cell_type": "markdown",
   "metadata": {},
   "source": [
    "•\tPrecision "
   ]
  },
  {
   "cell_type": "markdown",
   "metadata": {},
   "source": [
    "•\tRecall "
   ]
  },
  {
   "cell_type": "markdown",
   "metadata": {},
   "source": [
    "•\tBLEU score of 1-4 gram models"
   ]
  },
  {
   "cell_type": "markdown",
   "metadata": {},
   "source": [
    "#### 2. Calculate the following parameters of Levenshtein distance – \n"
   ]
  },
  {
   "cell_type": "markdown",
   "metadata": {},
   "source": [
    "•\tNo. of Matches "
   ]
  },
  {
   "cell_type": "markdown",
   "metadata": {},
   "source": [
    "•\tNo. of Insertion"
   ]
  },
  {
   "cell_type": "markdown",
   "metadata": {},
   "source": [
    "•\tNo. of Deletion"
   ]
  },
  {
   "cell_type": "markdown",
   "metadata": {},
   "source": [
    "•\tNo. of Substitution"
   ]
  }
 ],
 "metadata": {
  "kernelspec": {
   "display_name": "Python 3",
   "language": "python",
   "name": "python3"
  },
  "language_info": {
   "codemirror_mode": {
    "name": "ipython",
    "version": 3
   },
   "file_extension": ".py",
   "mimetype": "text/x-python",
   "name": "python",
   "nbconvert_exporter": "python",
   "pygments_lexer": "ipython3",
   "version": "3.8.3"
  }
 },
 "nbformat": 4,
 "nbformat_minor": 4
}
