{
 "cells": [
  {
   "cell_type": "markdown",
   "metadata": {},
   "source": [
    "#### Code for levenshtein distance"
   ]
  },
  {
   "cell_type": "code",
   "execution_count": null,
   "metadata": {},
   "outputs": [],
   "source": [
    "out_text = open(\"englishOutput.txt\", \"r\")\n",
    "ref_text = open(\"refenceOutput.txt\", \"r\")\n",
    "text = sent_tokenize(out_text.read())\n",
    "text2 = sent_tokenize(ref_text.read())\n",
    "def levenshtein(ref_text, out_text):\n",
    "    seq1 = ref_text.split()\n",
    "    seq2 = out_text.split()\n",
    "    seq2 = [word.replace(\".\", \"\") for word in seq2]\n",
    "    seq1 = [word.replace(\".\", \"\") for word in seq1]\n",
    "    size_x = len(seq1) + 1\n",
    "    size_y = len(seq2) + 1\n",
    "    additions = 0\n",
    "    subtractions = 0\n",
    "    deletions = 0\n",
    "    match = 0\n",
    "    matrix = np.zeros((size_x, size_y))\n",
    "    for x in range(size_x):\n",
    "        matrix[x, 0] = x\n",
    "    for y in range(size_y):\n",
    "        matrix[0, y] = y\n",
    "    for x in range(1, size_x):\n",
    "        for y in range(1, size_y):\n",
    "            if seq1[x - 1] == seq2[y - 1]:\n",
    "                matrix[x, y] = min(\n",
    "                    matrix[x - 1, y] + 1,\n",
    "                    matrix[x - 1, y - 1],\n",
    "                    matrix[x, y - 1] + 1\n",
    "                )\n",
    "            else:\n",
    "                a = matrix[x - 1, y] + 1\n",
    "                b = matrix[x - 1, y - 1] + 1\n",
    "                c = matrix[x, y - 1] + 1\n",
    "                matrix[x, y] = min(a, b, c)\n",
    "    x = size_x - 1\n",
    "    y = size_y - 1\n",
    "    while (x > 0) or (y > 0):\n",
    "        if seq1[x - 1] == seq2[y - 1]:\n",
    "            match = match + 1\n",
    "            x = x - 1\n",
    "            y = y - 1\n",
    "            # print(seq1[x - 1], seq2[y - 1])\n",
    "        else:\n",
    "            value = matrix[x, y]\n",
    "            a = matrix[x - 1, y] + 1\n",
    "            b = matrix[x - 1, y - 1] + 1\n",
    "            c = matrix[x, y - 1] + 1\n",
    "            if value == a:\n",
    "                additions = additions + 1\n",
    "                x = x - 1\n",
    "                # print(seq1[x - 1], seq2[y - 1])\n",
    "            elif value == b:\n",
    "                subtractions = subtractions + 1\n",
    "                x = x - 1\n",
    "                y = y - 1\n",
    "                # print(seq1[x - 1], seq2[y - 1])\n",
    "            else:\n",
    "                deletions = deletions + 1\n",
    "                y = y - 1\n",
    "                # print(seq1[x - 1], seq2[y - 1])\n",
    "    # print(matrix)\n",
    "    print(\"additions=\", additions, \"subtractions=\", subtractions, \"deletions= \", deletions, \"match\", match)\n",
    "    return matrix[size_x - 1, size_y - 1]\n",
    "for i in range(0, len(text)):\n",
    "    print(\"Output=\", levenshtein(text[i], text2[i]))\n",
    "#end"
   ]
  },
  {
   "cell_type": "markdown",
   "metadata": {},
   "source": [
    "#### Code for precision and recall"
   ]
  },
  {
   "cell_type": "code",
   "execution_count": null,
   "metadata": {},
   "outputs": [],
   "source": [
    "out_text = open(\"englishOutput.txt\", \"r\")\n",
    "ref_text = open(\"refenceOutput.txt\", \"r\")\n",
    "text = sent_tokenize(out_text.read())\n",
    "text2 = sent_tokenize(ref_text.read())\n",
    "print(len(text))\n",
    "def one_gram(txt1, txt2):\n",
    "    precision = 0\n",
    "    text = txt1\n",
    "    text2 = txt2\n",
    "    for i in range(0, len(text)):\n",
    "        word = text[i].split()\n",
    "        word2 = text2[i].split()\n",
    "        # Removing the , & . from the words\n",
    "        word = [word.replace(\".\", \"\") for word in word]\n",
    "        word2 = [word.replace(\".\", \"\") for word in word2]\n",
    "        count = 0\n",
    "        for item in word2:\n",
    "            if item in word:\n",
    "                count = count + 1\n",
    "    precision = precision + (count / len(word))\n",
    "    print(i, \"Line Match=\", count, \"output length=\", len(word2))\n",
    "    return precision\n",
    "# calling one gram model\n",
    "result = one_gram(text, text2)\n",
    "\n",
    "def two_gram_split(txt):\n",
    "    # print(\"Two gram precision...!\")\n",
    "    fn_word = []\n",
    "    t_w = txt.split()\n",
    "    for j in range(0, len(t_w) - 1):\n",
    "        fn_word.append(t_w[j] + \" \" + t_w[j + 1])\n",
    "    fn_word = [word.replace(\".\", \"\") for word in fn_word]\n",
    "    return fn_word\n",
    "\n",
    "def three_gram_split(txt):\n",
    "    # print(\"Three gram precision...!\")\n",
    "    fn_word = []\n",
    "    t_w = txt.split()\n",
    "    for j in range(0, len(t_w) - 2):\n",
    "        fn_word.append(t_w[j] + \" \" + t_w[j + 1] + \" \" + t_w[j + 2])\n",
    "    fn_word = [word.replace(\".\", \"\") for word in fn_word]\n",
    "    return fn_word\n",
    "\n",
    "def four_gram_split(txt):\n",
    "    # print(\"Four gram precision...!\")\n",
    "    fn_word = []\n",
    "    t_w = txt.split()\n",
    "    for j in range(0, len(t_w) - 3):\n",
    "        fn_word.append(t_w[j] + \" \" + t_w[j + 1] + \" \" + t_w[j + 2] + \" \" + t_w[j + 3])\n",
    "    fn_word = [word.replace(\".\", \"\") for word in fn_word]\n",
    "    return fn_word\n",
    "#For one gram model we call one_gram function \n",
    "precision = 0\n",
    "word = []\n",
    "word2 = []\n",
    "for i in range(0, len(text)):\n",
    "# inputting the sentences one by one from the text output (generated output & reference output)...\n",
    "fn_txt = text[i]\n",
    "fn_txt2 = text2[i]\n",
    "# Function calling (for example two gram or three gram or four gram)...\n",
    "# here calling these two gram and three gram function we use it for one time...\n",
    "word = two_gram_split(fn_txt)\n",
    "word2 = two_gram_split(fn_txt2)\n",
    "count = 0\n",
    "for item in word:\n",
    "if item in word2:\n",
    "count = count + 1\n",
    "precision = precision + count / len(word)\n",
    "print(i, \"line Match=\", count, \"output length=\", len(word))\n",
    "#end\n",
    "#levenshtein_d"
   ]
  },
  {
   "cell_type": "markdown",
   "metadata": {},
   "source": [
    "### Reference Output: "
   ]
  },
  {
   "cell_type": "markdown",
   "metadata": {},
   "source": [
    "The town I live in is quite small. It only has 45,000 inhabitants and is surrounded by farmland and forests. We also have a nice lake which is a great attraction in summer when many tourists come for holidays. I used to ice skate on the lake in winter when I was younger and the winters were colder. You can go swimming, sailing or windsurfing there and you even can learn how to wakeboard. My town is not far from a big city so people can go shopping there as well, as it only takes 15 minutes by train.\n"
   ]
  },
  {
   "cell_type": "markdown",
   "metadata": {},
   "source": [
    "### Generated Output"
   ]
  },
  {
   "cell_type": "markdown",
   "metadata": {},
   "source": [
    "The city I live in is quite small. She has 45000 populations and is surrounded by agriculture and forests. We have also one beautiful lake which in the summer a big attraction is and lots tourists do have then vacation. I am earlier always skating been on the lake, when it in the winter yet colder was, you can even wake boarding learn. My city lines not far from a large city. So that the people there also to go shopping can there train ride just 15 minutes last. "
   ]
  },
  {
   "cell_type": "markdown",
   "metadata": {},
   "source": [
    "### Precision Output: "
   ]
  },
  {
   "cell_type": "markdown",
   "metadata": {},
   "source": [
    "1st sentence correct 7 output-length 8 precision = 0.875 "
   ]
  },
  {
   "cell_type": "markdown",
   "metadata": {},
   "source": [
    "2nd sentence correct 7 output-length 11 precision = 0.636 "
   ]
  },
  {
   "cell_type": "markdown",
   "metadata": {},
   "source": [
    "3rd sentence correct 12 output-length 21 precision = 0.571 "
   ]
  },
  {
   "cell_type": "markdown",
   "metadata": {},
   "source": [
    "4th sentence correct 6 output-length 9 precision = 0.667 "
   ]
  },
  {
   "cell_type": "markdown",
   "metadata": {},
   "source": [
    "5th sentence correct 5 output-length 14 precision = 0.357 "
   ]
  },
  {
   "cell_type": "markdown",
   "metadata": {},
   "source": [
    "6th sentence correct 14 output-length 26 precision = 0.538"
   ]
  },
  {
   "cell_type": "markdown",
   "metadata": {},
   "source": [
    "### Recall Output:"
   ]
  },
  {
   "cell_type": "markdown",
   "metadata": {},
   "source": [
    "1st sentence correct 7 Reference-length 8 recall = 0.875"
   ]
  },
  {
   "cell_type": "markdown",
   "metadata": {},
   "source": [
    "2nd sentence correct 7 Reference-length 12 recall = 0.583"
   ]
  },
  {
   "cell_type": "markdown",
   "metadata": {},
   "source": [
    "3rd sentence correct 12 Reference-length 19 recall = 0.631"
   ]
  },
  {
   "cell_type": "markdown",
   "metadata": {},
   "source": [
    "4th sentence correct 6 Reference-length 19 recall = 0.315"
   ]
  },
  {
   "cell_type": "markdown",
   "metadata": {},
   "source": [
    "5th sentence correct 5 Reference-length 16 recall = 0.312"
   ]
  },
  {
   "cell_type": "markdown",
   "metadata": {},
   "source": [
    "6h sentence correct 14 Reference-length 25 recall = 0.538"
   ]
  }
 ],
 "metadata": {
  "kernelspec": {
   "display_name": "Python 3",
   "language": "python",
   "name": "python3"
  },
  "language_info": {
   "codemirror_mode": {
    "name": "ipython",
    "version": 3
   },
   "file_extension": ".py",
   "mimetype": "text/x-python",
   "name": "python",
   "nbconvert_exporter": "python",
   "pygments_lexer": "ipython3",
   "version": "3.8.3"
  }
 },
 "nbformat": 4,
 "nbformat_minor": 4
}
